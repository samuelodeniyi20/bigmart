{
 "cells": [
  {
   "cell_type": "markdown",
   "metadata": {},
   "source": [
    "# The goal of this project is to understand the properties of products and outlets which play a key role in increasing sales."
   ]
  },
  {
   "cell_type": "code",
   "execution_count": 1,
   "metadata": {},
   "outputs": [],
   "source": [
    "# first we import  libraries that will aid us "
   ]
  },
  {
   "cell_type": "code",
   "execution_count": 2,
   "metadata": {},
   "outputs": [
    {
     "ename": "ImportError",
     "evalue": "cannot import name 'ConfusionMatrixDisplay' from 'sklearn.metrics' (C:\\Users\\samad ADL\\Anaconda3\\lib\\site-packages\\sklearn\\metrics\\__init__.py)",
     "output_type": "error",
     "traceback": [
      "\u001b[1;31m---------------------------------------------------------------------------\u001b[0m",
      "\u001b[1;31mImportError\u001b[0m                               Traceback (most recent call last)",
      "\u001b[1;32m<ipython-input-2-571b78f8ab1b>\u001b[0m in \u001b[0;36m<module>\u001b[1;34m\u001b[0m\n\u001b[0;32m     11\u001b[0m \u001b[1;32mfrom\u001b[0m \u001b[0msklearn\u001b[0m\u001b[1;33m.\u001b[0m\u001b[0mensemble\u001b[0m \u001b[1;32mimport\u001b[0m \u001b[0mRandomForestRegressor\u001b[0m\u001b[1;33m\u001b[0m\u001b[1;33m\u001b[0m\u001b[0m\n\u001b[0;32m     12\u001b[0m \u001b[1;32mfrom\u001b[0m \u001b[0msklearn\u001b[0m\u001b[1;33m.\u001b[0m\u001b[0mmetrics\u001b[0m \u001b[1;32mimport\u001b[0m \u001b[0mmean_squared_error\u001b[0m\u001b[1;33m,\u001b[0m \u001b[0mmean_absolute_error\u001b[0m\u001b[1;33m,\u001b[0m \u001b[0mr2_score\u001b[0m\u001b[1;33m\u001b[0m\u001b[1;33m\u001b[0m\u001b[0m\n\u001b[1;32m---> 13\u001b[1;33m \u001b[1;32mfrom\u001b[0m \u001b[0msklearn\u001b[0m\u001b[1;33m.\u001b[0m\u001b[0mmetrics\u001b[0m \u001b[1;32mimport\u001b[0m \u001b[0mconfusion_matrix\u001b[0m\u001b[1;33m,\u001b[0m \u001b[0maccuracy_score\u001b[0m\u001b[1;33m,\u001b[0m \u001b[0mprecision_score\u001b[0m\u001b[1;33m,\u001b[0m \u001b[0mrecall_score\u001b[0m\u001b[1;33m,\u001b[0m \u001b[0mf1_score\u001b[0m\u001b[1;33m,\u001b[0m \u001b[0mConfusionMatrixDisplay\u001b[0m\u001b[1;33m\u001b[0m\u001b[1;33m\u001b[0m\u001b[0m\n\u001b[0m",
      "\u001b[1;31mImportError\u001b[0m: cannot import name 'ConfusionMatrixDisplay' from 'sklearn.metrics' (C:\\Users\\samad ADL\\Anaconda3\\lib\\site-packages\\sklearn\\metrics\\__init__.py)"
     ]
    }
   ],
   "source": [
    "import numpy as np\n",
    "import pandas as pd\n",
    "import seaborn as sns\n",
    "import matplotlib.pyplot as plt\n",
    "from scipy import stats\n",
    "from scipy.stats import mode\n",
    "from sklearn.preprocessing import LabelEncoder\n",
    "from sklearn.model_selection import train_test_split\n",
    "from sklearn.linear_model import LinearRegression\n",
    "from sklearn.linear_model import LogisticRegression\n",
    "from sklearn.ensemble import RandomForestRegressor\n",
    "from sklearn.metrics import mean_squared_error, mean_absolute_error, r2_score\n",
    "from sklearn.metrics import confusion_matrix, accuracy_score, precision_score, recall_score, f1_score, ConfusionMatrixDisplay"
   ]
  },
  {
   "cell_type": "code",
   "execution_count": null,
   "metadata": {},
   "outputs": [],
   "source": [
    "# loading our data sets"
   ]
  },
  {
   "cell_type": "code",
   "execution_count": 3,
   "metadata": {},
   "outputs": [],
   "source": [
    "test = pd.read_csv('Test-Set.csv')\n",
    "train = pd.read_csv('Train-Set.csv')"
   ]
  },
  {
   "cell_type": "code",
   "execution_count": 4,
   "metadata": {},
   "outputs": [
    {
     "data": {
      "text/html": [
       "<div>\n",
       "<style scoped>\n",
       "    .dataframe tbody tr th:only-of-type {\n",
       "        vertical-align: middle;\n",
       "    }\n",
       "\n",
       "    .dataframe tbody tr th {\n",
       "        vertical-align: top;\n",
       "    }\n",
       "\n",
       "    .dataframe thead th {\n",
       "        text-align: right;\n",
       "    }\n",
       "</style>\n",
       "<table border=\"1\" class=\"dataframe\">\n",
       "  <thead>\n",
       "    <tr style=\"text-align: right;\">\n",
       "      <th></th>\n",
       "      <th>ProductID</th>\n",
       "      <th>Weight</th>\n",
       "      <th>FatContent</th>\n",
       "      <th>ProductVisibility</th>\n",
       "      <th>ProductType</th>\n",
       "      <th>MRP</th>\n",
       "      <th>OutletID</th>\n",
       "      <th>EstablishmentYear</th>\n",
       "      <th>OutletSize</th>\n",
       "      <th>LocationType</th>\n",
       "      <th>OutletType</th>\n",
       "    </tr>\n",
       "  </thead>\n",
       "  <tbody>\n",
       "    <tr>\n",
       "      <th>0</th>\n",
       "      <td>FDW58</td>\n",
       "      <td>20.750</td>\n",
       "      <td>Low Fat</td>\n",
       "      <td>0.007565</td>\n",
       "      <td>Snack Foods</td>\n",
       "      <td>107.8622</td>\n",
       "      <td>OUT049</td>\n",
       "      <td>1999</td>\n",
       "      <td>Medium</td>\n",
       "      <td>Tier 1</td>\n",
       "      <td>Supermarket Type1</td>\n",
       "    </tr>\n",
       "    <tr>\n",
       "      <th>1</th>\n",
       "      <td>FDW14</td>\n",
       "      <td>8.300</td>\n",
       "      <td>reg</td>\n",
       "      <td>0.038428</td>\n",
       "      <td>Dairy</td>\n",
       "      <td>87.3198</td>\n",
       "      <td>OUT017</td>\n",
       "      <td>2007</td>\n",
       "      <td>NaN</td>\n",
       "      <td>Tier 2</td>\n",
       "      <td>Supermarket Type1</td>\n",
       "    </tr>\n",
       "    <tr>\n",
       "      <th>2</th>\n",
       "      <td>NCN55</td>\n",
       "      <td>14.600</td>\n",
       "      <td>Low Fat</td>\n",
       "      <td>0.099575</td>\n",
       "      <td>Others</td>\n",
       "      <td>241.7538</td>\n",
       "      <td>OUT010</td>\n",
       "      <td>1998</td>\n",
       "      <td>NaN</td>\n",
       "      <td>Tier 3</td>\n",
       "      <td>Grocery Store</td>\n",
       "    </tr>\n",
       "    <tr>\n",
       "      <th>3</th>\n",
       "      <td>FDQ58</td>\n",
       "      <td>7.315</td>\n",
       "      <td>Low Fat</td>\n",
       "      <td>0.015388</td>\n",
       "      <td>Snack Foods</td>\n",
       "      <td>155.0340</td>\n",
       "      <td>OUT017</td>\n",
       "      <td>2007</td>\n",
       "      <td>NaN</td>\n",
       "      <td>Tier 2</td>\n",
       "      <td>Supermarket Type1</td>\n",
       "    </tr>\n",
       "    <tr>\n",
       "      <th>4</th>\n",
       "      <td>FDY38</td>\n",
       "      <td>NaN</td>\n",
       "      <td>Regular</td>\n",
       "      <td>0.118599</td>\n",
       "      <td>Dairy</td>\n",
       "      <td>234.2300</td>\n",
       "      <td>OUT027</td>\n",
       "      <td>1985</td>\n",
       "      <td>Medium</td>\n",
       "      <td>Tier 3</td>\n",
       "      <td>Supermarket Type3</td>\n",
       "    </tr>\n",
       "  </tbody>\n",
       "</table>\n",
       "</div>"
      ],
      "text/plain": [
       "  ProductID  Weight FatContent  ProductVisibility  ProductType       MRP  \\\n",
       "0     FDW58  20.750    Low Fat           0.007565  Snack Foods  107.8622   \n",
       "1     FDW14   8.300        reg           0.038428        Dairy   87.3198   \n",
       "2     NCN55  14.600    Low Fat           0.099575       Others  241.7538   \n",
       "3     FDQ58   7.315    Low Fat           0.015388  Snack Foods  155.0340   \n",
       "4     FDY38     NaN    Regular           0.118599        Dairy  234.2300   \n",
       "\n",
       "  OutletID  EstablishmentYear OutletSize LocationType         OutletType  \n",
       "0   OUT049               1999     Medium       Tier 1  Supermarket Type1  \n",
       "1   OUT017               2007        NaN       Tier 2  Supermarket Type1  \n",
       "2   OUT010               1998        NaN       Tier 3      Grocery Store  \n",
       "3   OUT017               2007        NaN       Tier 2  Supermarket Type1  \n",
       "4   OUT027               1985     Medium       Tier 3  Supermarket Type3  "
      ]
     },
     "execution_count": 4,
     "metadata": {},
     "output_type": "execute_result"
    }
   ],
   "source": [
    "test.head()"
   ]
  },
  {
   "cell_type": "code",
   "execution_count": 5,
   "metadata": {},
   "outputs": [
    {
     "data": {
      "text/html": [
       "<div>\n",
       "<style scoped>\n",
       "    .dataframe tbody tr th:only-of-type {\n",
       "        vertical-align: middle;\n",
       "    }\n",
       "\n",
       "    .dataframe tbody tr th {\n",
       "        vertical-align: top;\n",
       "    }\n",
       "\n",
       "    .dataframe thead th {\n",
       "        text-align: right;\n",
       "    }\n",
       "</style>\n",
       "<table border=\"1\" class=\"dataframe\">\n",
       "  <thead>\n",
       "    <tr style=\"text-align: right;\">\n",
       "      <th></th>\n",
       "      <th>ProductID</th>\n",
       "      <th>Weight</th>\n",
       "      <th>FatContent</th>\n",
       "      <th>ProductVisibility</th>\n",
       "      <th>ProductType</th>\n",
       "      <th>MRP</th>\n",
       "      <th>OutletID</th>\n",
       "      <th>EstablishmentYear</th>\n",
       "      <th>OutletSize</th>\n",
       "      <th>LocationType</th>\n",
       "      <th>OutletType</th>\n",
       "      <th>OutletSales</th>\n",
       "    </tr>\n",
       "  </thead>\n",
       "  <tbody>\n",
       "    <tr>\n",
       "      <th>0</th>\n",
       "      <td>FDA15</td>\n",
       "      <td>9.30</td>\n",
       "      <td>Low Fat</td>\n",
       "      <td>0.016047</td>\n",
       "      <td>Dairy</td>\n",
       "      <td>249.8092</td>\n",
       "      <td>OUT049</td>\n",
       "      <td>1999</td>\n",
       "      <td>Medium</td>\n",
       "      <td>Tier 1</td>\n",
       "      <td>Supermarket Type1</td>\n",
       "      <td>3735.1380</td>\n",
       "    </tr>\n",
       "    <tr>\n",
       "      <th>1</th>\n",
       "      <td>DRC01</td>\n",
       "      <td>5.92</td>\n",
       "      <td>Regular</td>\n",
       "      <td>0.019278</td>\n",
       "      <td>Soft Drinks</td>\n",
       "      <td>48.2692</td>\n",
       "      <td>OUT018</td>\n",
       "      <td>2009</td>\n",
       "      <td>Medium</td>\n",
       "      <td>Tier 3</td>\n",
       "      <td>Supermarket Type2</td>\n",
       "      <td>443.4228</td>\n",
       "    </tr>\n",
       "    <tr>\n",
       "      <th>2</th>\n",
       "      <td>FDN15</td>\n",
       "      <td>17.50</td>\n",
       "      <td>Low Fat</td>\n",
       "      <td>0.016760</td>\n",
       "      <td>Meat</td>\n",
       "      <td>141.6180</td>\n",
       "      <td>OUT049</td>\n",
       "      <td>1999</td>\n",
       "      <td>Medium</td>\n",
       "      <td>Tier 1</td>\n",
       "      <td>Supermarket Type1</td>\n",
       "      <td>2097.2700</td>\n",
       "    </tr>\n",
       "    <tr>\n",
       "      <th>3</th>\n",
       "      <td>FDX07</td>\n",
       "      <td>19.20</td>\n",
       "      <td>Regular</td>\n",
       "      <td>0.000000</td>\n",
       "      <td>Fruits and Vegetables</td>\n",
       "      <td>182.0950</td>\n",
       "      <td>OUT010</td>\n",
       "      <td>1998</td>\n",
       "      <td>NaN</td>\n",
       "      <td>Tier 3</td>\n",
       "      <td>Grocery Store</td>\n",
       "      <td>732.3800</td>\n",
       "    </tr>\n",
       "    <tr>\n",
       "      <th>4</th>\n",
       "      <td>NCD19</td>\n",
       "      <td>8.93</td>\n",
       "      <td>Low Fat</td>\n",
       "      <td>0.000000</td>\n",
       "      <td>Household</td>\n",
       "      <td>53.8614</td>\n",
       "      <td>OUT013</td>\n",
       "      <td>1987</td>\n",
       "      <td>High</td>\n",
       "      <td>Tier 3</td>\n",
       "      <td>Supermarket Type1</td>\n",
       "      <td>994.7052</td>\n",
       "    </tr>\n",
       "  </tbody>\n",
       "</table>\n",
       "</div>"
      ],
      "text/plain": [
       "  ProductID  Weight FatContent  ProductVisibility            ProductType  \\\n",
       "0     FDA15    9.30    Low Fat           0.016047                  Dairy   \n",
       "1     DRC01    5.92    Regular           0.019278            Soft Drinks   \n",
       "2     FDN15   17.50    Low Fat           0.016760                   Meat   \n",
       "3     FDX07   19.20    Regular           0.000000  Fruits and Vegetables   \n",
       "4     NCD19    8.93    Low Fat           0.000000              Household   \n",
       "\n",
       "        MRP OutletID  EstablishmentYear OutletSize LocationType  \\\n",
       "0  249.8092   OUT049               1999     Medium       Tier 1   \n",
       "1   48.2692   OUT018               2009     Medium       Tier 3   \n",
       "2  141.6180   OUT049               1999     Medium       Tier 1   \n",
       "3  182.0950   OUT010               1998        NaN       Tier 3   \n",
       "4   53.8614   OUT013               1987       High       Tier 3   \n",
       "\n",
       "          OutletType  OutletSales  \n",
       "0  Supermarket Type1    3735.1380  \n",
       "1  Supermarket Type2     443.4228  \n",
       "2  Supermarket Type1    2097.2700  \n",
       "3      Grocery Store     732.3800  \n",
       "4  Supermarket Type1     994.7052  "
      ]
     },
     "execution_count": 5,
     "metadata": {},
     "output_type": "execute_result"
    }
   ],
   "source": [
    "train.head()"
   ]
  },
  {
   "cell_type": "code",
   "execution_count": 6,
   "metadata": {},
   "outputs": [
    {
     "name": "stdout",
     "output_type": "stream",
     "text": [
      "<class 'pandas.core.frame.DataFrame'>\n",
      "RangeIndex: 5681 entries, 0 to 5680\n",
      "Data columns (total 11 columns):\n",
      "ProductID            5681 non-null object\n",
      "Weight               4705 non-null float64\n",
      "FatContent           5681 non-null object\n",
      "ProductVisibility    5681 non-null float64\n",
      "ProductType          5681 non-null object\n",
      "MRP                  5681 non-null float64\n",
      "OutletID             5681 non-null object\n",
      "EstablishmentYear    5681 non-null int64\n",
      "OutletSize           4075 non-null object\n",
      "LocationType         5681 non-null object\n",
      "OutletType           5681 non-null object\n",
      "dtypes: float64(3), int64(1), object(7)\n",
      "memory usage: 332.9+ KB\n"
     ]
    }
   ],
   "source": [
    "test.info()   \n"
   ]
  },
  {
   "cell_type": "code",
   "execution_count": 7,
   "metadata": {},
   "outputs": [
    {
     "name": "stdout",
     "output_type": "stream",
     "text": [
      "<class 'pandas.core.frame.DataFrame'>\n",
      "RangeIndex: 8523 entries, 0 to 8522\n",
      "Data columns (total 12 columns):\n",
      "ProductID            8523 non-null object\n",
      "Weight               7060 non-null float64\n",
      "FatContent           8523 non-null object\n",
      "ProductVisibility    8523 non-null float64\n",
      "ProductType          8523 non-null object\n",
      "MRP                  8523 non-null float64\n",
      "OutletID             8523 non-null object\n",
      "EstablishmentYear    8523 non-null int64\n",
      "OutletSize           6113 non-null object\n",
      "LocationType         8523 non-null object\n",
      "OutletType           8523 non-null object\n",
      "OutletSales          8523 non-null float64\n",
      "dtypes: float64(4), int64(1), object(7)\n",
      "memory usage: 566.0+ KB\n"
     ]
    }
   ],
   "source": [
    "train.info()"
   ]
  },
  {
   "cell_type": "markdown",
   "metadata": {},
   "source": [
    "# wE THEN PROCEED TO VHECK FOR MISSING VALUES IN THE TEST AND TRAIN SET"
   ]
  },
  {
   "cell_type": "markdown",
   "metadata": {},
   "source": [
    "# CHECKING FOR MISSING VALUES IN THE TEST DATA SET"
   ]
  },
  {
   "cell_type": "code",
   "execution_count": 8,
   "metadata": {},
   "outputs": [
    {
     "name": "stdout",
     "output_type": "stream",
     "text": [
      "ProductID               0\n",
      "Weight                976\n",
      "FatContent              0\n",
      "ProductVisibility       0\n",
      "ProductType             0\n",
      "MRP                     0\n",
      "OutletID                0\n",
      "EstablishmentYear       0\n",
      "OutletSize           1606\n",
      "LocationType            0\n",
      "OutletType              0\n",
      "dtype: int64\n"
     ]
    }
   ],
   "source": [
    "print(test.isnull().sum())"
   ]
  },
  {
   "cell_type": "markdown",
   "metadata": {},
   "source": [
    "# WE CAN CONFIRM THE WEIGHT COLUMN(NUERICAL) AND THE OUTLETSIZE COLUMN (CATEGORICAL) HAVE MISSING VALUES"
   ]
  },
  {
   "cell_type": "markdown",
   "metadata": {},
   "source": [
    "# SOLVING THE MISSING VALUES IN THE TEST SET"
   ]
  },
  {
   "cell_type": "code",
   "execution_count": 9,
   "metadata": {},
   "outputs": [],
   "source": [
    "# Handling missing values in the 'OutletSize' column based on mode grouped by 'OutletType'\n",
    "\n",
    "\n",
    "# Calculate the mode of OutletSize for each OutletType\n",
    "mode_of_outlet_size = test.groupby('OutletType')['OutletSize'].agg(lambda x: x.value_counts().index[0])\n",
    "# print(mode_of_outlet_size)\n",
    "\n",
    "# Fill missing values in 'OutletSize' based on 'OutletType' using the calculated mode\n",
    "test.loc[test['OutletSize'].isnull(), 'OutletSize'] = test.loc[test['OutletSize'].isnull(), 'OutletType'].apply(lambda x: mode_of_outlet_size[x])\n"
   ]
  },
  {
   "cell_type": "code",
   "execution_count": 10,
   "metadata": {},
   "outputs": [
    {
     "name": "stdout",
     "output_type": "stream",
     "text": [
      "ProductID              0\n",
      "Weight               976\n",
      "FatContent             0\n",
      "ProductVisibility      0\n",
      "ProductType            0\n",
      "MRP                    0\n",
      "OutletID               0\n",
      "EstablishmentYear      0\n",
      "OutletSize             0\n",
      "LocationType           0\n",
      "OutletType             0\n",
      "dtype: int64\n"
     ]
    }
   ],
   "source": [
    "print(test.isnull().sum())"
   ]
  },
  {
   "cell_type": "markdown",
   "metadata": {},
   "source": [
    "# seeing that the missing values of OutletSize has been solved we then proceed to solve the missing values in weight"
   ]
  },
  {
   "cell_type": "code",
   "execution_count": 11,
   "metadata": {},
   "outputs": [],
   "source": [
    "test['Weight'].fillna(test['Weight'].mean(), inplace=True)"
   ]
  },
  {
   "cell_type": "code",
   "execution_count": 12,
   "metadata": {},
   "outputs": [
    {
     "name": "stdout",
     "output_type": "stream",
     "text": [
      "ProductID            0\n",
      "Weight               0\n",
      "FatContent           0\n",
      "ProductVisibility    0\n",
      "ProductType          0\n",
      "MRP                  0\n",
      "OutletID             0\n",
      "EstablishmentYear    0\n",
      "OutletSize           0\n",
      "LocationType         0\n",
      "OutletType           0\n",
      "dtype: int64\n"
     ]
    }
   ],
   "source": [
    "print(test.isnull().sum())"
   ]
  },
  {
   "cell_type": "markdown",
   "metadata": {},
   "source": [
    "# seeing that there are no more missing values in the test set we then proceed to check and solve the missing values in the train set"
   ]
  },
  {
   "cell_type": "code",
   "execution_count": 13,
   "metadata": {},
   "outputs": [
    {
     "name": "stdout",
     "output_type": "stream",
     "text": [
      "ProductID               0\n",
      "Weight               1463\n",
      "FatContent              0\n",
      "ProductVisibility       0\n",
      "ProductType             0\n",
      "MRP                     0\n",
      "OutletID                0\n",
      "EstablishmentYear       0\n",
      "OutletSize           2410\n",
      "LocationType            0\n",
      "OutletType              0\n",
      "OutletSales             0\n",
      "dtype: int64\n"
     ]
    }
   ],
   "source": [
    "print(train.isnull().sum())"
   ]
  },
  {
   "cell_type": "markdown",
   "metadata": {},
   "source": [
    "# solving the missing values in weight and outlet size columns"
   ]
  },
  {
   "cell_type": "code",
   "execution_count": 14,
   "metadata": {},
   "outputs": [],
   "source": [
    "train['Weight'].fillna(train['Weight'].mean(), inplace=True)"
   ]
  },
  {
   "cell_type": "code",
   "execution_count": 15,
   "metadata": {},
   "outputs": [
    {
     "name": "stdout",
     "output_type": "stream",
     "text": [
      "ProductID               0\n",
      "Weight                  0\n",
      "FatContent              0\n",
      "ProductVisibility       0\n",
      "ProductType             0\n",
      "MRP                     0\n",
      "OutletID                0\n",
      "EstablishmentYear       0\n",
      "OutletSize           2410\n",
      "LocationType            0\n",
      "OutletType              0\n",
      "OutletSales             0\n",
      "dtype: int64\n"
     ]
    }
   ],
   "source": [
    "print(train.isnull().sum())"
   ]
  },
  {
   "cell_type": "code",
   "execution_count": 16,
   "metadata": {},
   "outputs": [],
   "source": [
    "# Handling missing values in the 'OutletSize' column based on mode grouped by 'OutletType'\n",
    "\n",
    "\n",
    "# Calculate the mode of OutletSize for each OutletType in the train dataset\n",
    "mode_of_trainoutlet_size = train.groupby('OutletType')['OutletSize'].agg(lambda x: x.value_counts().index[0])\n",
    "\n",
    "# print(mode_of_outlet_size)\n",
    "\n",
    "# Fill missing values in 'OutletSize' in the train dataset based on 'OutletType' using the calculated mode\n",
    "train.loc[train['OutletSize'].isnull(), 'OutletSize'] = train.loc[train['OutletSize'].isnull(), 'OutletType'].apply(lambda x: mode_of_trainoutlet_size[x])"
   ]
  },
  {
   "cell_type": "code",
   "execution_count": 17,
   "metadata": {},
   "outputs": [
    {
     "name": "stdout",
     "output_type": "stream",
     "text": [
      "ProductID            0\n",
      "Weight               0\n",
      "FatContent           0\n",
      "ProductVisibility    0\n",
      "ProductType          0\n",
      "MRP                  0\n",
      "OutletID             0\n",
      "EstablishmentYear    0\n",
      "OutletSize           0\n",
      "LocationType         0\n",
      "OutletType           0\n",
      "OutletSales          0\n",
      "dtype: int64\n"
     ]
    }
   ],
   "source": [
    "print(train.isnull().sum())"
   ]
  },
  {
   "cell_type": "markdown",
   "metadata": {},
   "source": [
    "# we can onfirm that there are no more missing values in the train set"
   ]
  },
  {
   "cell_type": "markdown",
   "metadata": {},
   "source": [
    "# Checking for Outliers in the train and test set using z score"
   ]
  },
  {
   "cell_type": "code",
   "execution_count": 18,
   "metadata": {},
   "outputs": [
    {
     "name": "stdout",
     "output_type": "stream",
     "text": [
      "(array([  46,   76,   78,   89,  138,  333,  385,  474,  543,  637,  858,\n",
      "        871, 1046, 1191, 1256, 1270, 1411, 1516, 1547, 1577, 1616, 1710,\n",
      "       1812, 1823, 1857, 1915, 1919, 2019, 2179, 2230, 2365, 2380, 2393,\n",
      "       2504, 2516, 2561, 2605, 2609, 2625, 2628, 2677, 2779, 2836, 2843,\n",
      "       3267, 3294, 3313, 3316, 3346, 3378, 3502, 3638, 3679, 3970, 4052,\n",
      "       4147, 4159, 4208, 4255, 4328, 4365, 4421, 4575, 4616, 4689, 4801,\n",
      "       4804, 4846, 4919, 4976, 4999, 5121, 5157, 5277, 5290, 5435, 5469,\n",
      "       5482, 5514, 5571, 5668], dtype=int32), array([1, 1, 1, 1, 1, 1, 1, 1, 1, 1, 1, 1, 1, 1, 1, 1, 1, 1, 1, 1, 1, 1,\n",
      "       1, 1, 1, 1, 1, 1, 1, 1, 1, 1, 1, 1, 1, 1, 1, 1, 1, 1, 1, 1, 1, 1,\n",
      "       1, 1, 1, 1, 1, 1, 1, 1, 1, 1, 1, 1, 1, 1, 1, 1, 1, 1, 1, 1, 1, 1,\n",
      "       1, 1, 1, 1, 1, 1, 1, 1, 1, 1, 1, 1, 1, 1, 1], dtype=int32))\n"
     ]
    }
   ],
   "source": [
    "numericaltestcolumns = test.select_dtypes(include=[np.number]).columns\n",
    "\n",
    "z_scores = np.abs(stats.zscore(test[numericaltestcolumns]))\n",
    "\n",
    "print(np.where(z_scores > 3))"
   ]
  },
  {
   "cell_type": "markdown",
   "metadata": {},
   "source": [
    "# soliving outliers BY CAPPING AND FLOORING"
   ]
  },
  {
   "cell_type": "code",
   "execution_count": 19,
   "metadata": {},
   "outputs": [],
   "source": [
    "numericaltestcolumns = test.select_dtypes(include=[np.number]).columns\n",
    "\n",
    "# Calculate mean and standard deviation for numeric columns\n",
    "mean_values = test[numericaltestcolumns].mean()\n",
    "std_dev = test[numericaltestcolumns].std()\n",
    "\n",
    "# Define bounds using a standard deviation multiplier\n",
    "std_dev_multiplier = 3\n",
    "lower_bound = mean_values - (std_dev_multiplier * std_dev)\n",
    "upper_bound = mean_values + (std_dev_multiplier * std_dev)\n",
    "\n",
    "# Apply capping and flooring using the defined bounds\n",
    "test[numericaltestcolumns] = test[numericaltestcolumns].apply(lambda x: np.clip(x, lower_bound[x.name], upper_bound[x.name]))\n",
    "    \n"
   ]
  },
  {
   "cell_type": "code",
   "execution_count": 20,
   "metadata": {},
   "outputs": [
    {
     "name": "stdout",
     "output_type": "stream",
     "text": [
      "     ProductID     Weight FatContent  ProductVisibility  \\\n",
      "0        FDW58  20.750000    Low Fat           0.007565   \n",
      "1        FDW14   8.300000        reg           0.038428   \n",
      "2        NCN55  14.600000    Low Fat           0.099575   \n",
      "3        FDQ58   7.315000    Low Fat           0.015388   \n",
      "4        FDY38  12.695633    Regular           0.118599   \n",
      "5        FDH56   9.800000    Regular           0.063817   \n",
      "6        FDL48  19.350000    Regular           0.082602   \n",
      "7        FDC48  12.695633    Low Fat           0.015782   \n",
      "8        FDN33   6.305000    Regular           0.123365   \n",
      "9        FDA36   5.985000    Low Fat           0.005698   \n",
      "10       FDT44  16.600000    Low Fat           0.103569   \n",
      "11       FDQ56   6.590000    Low Fat           0.105811   \n",
      "12       NCC54  12.695633    Low Fat           0.171079   \n",
      "13       FDU11   4.785000    Low Fat           0.092738   \n",
      "14       DRL59  16.750000         LF           0.021206   \n",
      "15       FDM24   6.135000    Regular           0.079451   \n",
      "16       FDI57  19.850000    Low Fat           0.054135   \n",
      "17       DRC12  17.850000    Low Fat           0.037981   \n",
      "18       NCM42  12.695633    Low Fat           0.028184   \n",
      "19       FDA46  13.600000    Low Fat           0.196898   \n",
      "20       FDA31   7.100000    Low Fat           0.109920   \n",
      "21       NCJ31  19.200000    Low Fat           0.182619   \n",
      "22       FDG52  13.650000         LF           0.065631   \n",
      "23       NCL19  12.695633    Low Fat           0.027447   \n",
      "24       FDS10  19.200000    Low Fat           0.035179   \n",
      "25       FDX22   6.785000    Regular           0.038455   \n",
      "26       NCF19  13.000000    Low Fat           0.035102   \n",
      "27       NCE06   5.825000    Low Fat           0.091485   \n",
      "28       DRC27  13.800000    Low Fat           0.058102   \n",
      "29       FDE21  12.800000         LF           0.022940   \n",
      "...        ...        ...        ...                ...   \n",
      "5651     FDD23   9.500000    Regular           0.048645   \n",
      "5652     FDP32   6.650000    Low Fat           0.087847   \n",
      "5653     FDO31   6.760000    Regular           0.028977   \n",
      "5654     FDQ57   7.275000    Low Fat           0.000000   \n",
      "5655     FDX32  12.695633    Regular           0.099375   \n",
      "5656     FDC39  12.695633    Low Fat           0.158425   \n",
      "5657     FDU55  16.200000    Low Fat           0.035911   \n",
      "5658     FDL45  15.600000    Low Fat           0.037656   \n",
      "5659     DRK37   5.000000    Low Fat           0.044073   \n",
      "5660     FDK22   9.800000    Low Fat           0.026065   \n",
      "5661     DRG37  12.695633    Low Fat           0.000000   \n",
      "5662     FDK22   9.800000    Low Fat           0.026234   \n",
      "5663     DRH36  16.200000    Low Fat           0.033516   \n",
      "5664     DRC36  13.000000    Regular           0.045168   \n",
      "5665     DRE03  12.695633    Low Fat           0.024110   \n",
      "5666     FDF34   9.300000    Regular           0.014019   \n",
      "5667     FDZ22   9.395000    Low Fat           0.045270   \n",
      "5668     FDC44  15.600000    Low Fat           0.219441   \n",
      "5669     FDN31  12.695633    Low Fat           0.072529   \n",
      "5670     FDO03  10.395000    Regular           0.037092   \n",
      "5671     FDA01  15.000000        reg           0.054463   \n",
      "5672     NCH42   6.860000    Low Fat           0.036594   \n",
      "5673     FDF46   7.070000    Low Fat           0.094053   \n",
      "5674     DRL35  15.700000    Low Fat           0.030704   \n",
      "5675     FDW46  13.000000    Regular           0.070411   \n",
      "5676     FDB58  10.500000    Regular           0.013496   \n",
      "5677     FDD47   7.600000    Regular           0.142991   \n",
      "5678     NCO17  10.000000    Low Fat           0.073529   \n",
      "5679     FDJ26  15.300000    Regular           0.000000   \n",
      "5680     FDU37   9.500000    Regular           0.104720   \n",
      "\n",
      "                ProductType       MRP OutletID  EstablishmentYear OutletSize  \\\n",
      "0               Snack Foods  107.8622   OUT049               1999     Medium   \n",
      "1                     Dairy   87.3198   OUT017               2007      Small   \n",
      "2                    Others  241.7538   OUT010               1998      Small   \n",
      "3               Snack Foods  155.0340   OUT017               2007      Small   \n",
      "4                     Dairy  234.2300   OUT027               1985     Medium   \n",
      "5     Fruits and Vegetables  117.1492   OUT046               1997      Small   \n",
      "6              Baking Goods   50.1034   OUT018               2009     Medium   \n",
      "7              Baking Goods   81.0592   OUT027               1985     Medium   \n",
      "8               Snack Foods   95.7436   OUT045               2002      Small   \n",
      "9              Baking Goods  186.8924   OUT017               2007      Small   \n",
      "10    Fruits and Vegetables  118.3466   OUT017               2007      Small   \n",
      "11    Fruits and Vegetables   85.3908   OUT045               2002      Small   \n",
      "12       Health and Hygiene  240.4196   OUT019               1985      Small   \n",
      "13                   Breads  122.3098   OUT049               1999     Medium   \n",
      "14              Hard Drinks   52.0298   OUT013               1987       High   \n",
      "15             Baking Goods  151.6366   OUT049               1999     Medium   \n",
      "16                  Seafood  198.7768   OUT045               2002      Small   \n",
      "17              Soft Drinks  192.2188   OUT018               2009     Medium   \n",
      "18                Household  109.6912   OUT027               1985     Medium   \n",
      "19              Snack Foods  193.7136   OUT010               1998      Small   \n",
      "20    Fruits and Vegetables  175.0080   OUT013               1987       High   \n",
      "21                   Others  239.9196   OUT035               2004      Small   \n",
      "22             Frozen Foods   47.7402   OUT046               1997      Small   \n",
      "23                   Others  142.3470   OUT019               1985      Small   \n",
      "24              Snack Foods  180.7318   OUT035               2004      Small   \n",
      "25              Snack Foods  209.4928   OUT010               1998      Small   \n",
      "26                Household   47.6034   OUT035               2004      Small   \n",
      "27                Household  161.3894   OUT046               1997      Small   \n",
      "28                    Dairy  244.6802   OUT046               1997      Small   \n",
      "29    Fruits and Vegetables  116.5492   OUT035               2004      Small   \n",
      "...                     ...       ...      ...                ...        ...   \n",
      "5651          Starchy Foods  186.1898   OUT013               1987       High   \n",
      "5652  Fruits and Vegetables  126.7678   OUT045               2002      Small   \n",
      "5653  Fruits and Vegetables   80.2960   OUT035               2004      Small   \n",
      "5654            Snack Foods  144.5760   OUT013               1987       High   \n",
      "5655  Fruits and Vegetables  143.6786   OUT027               1985     Medium   \n",
      "5656                  Dairy  207.8296   OUT027               1985     Medium   \n",
      "5657  Fruits and Vegetables  261.3278   OUT046               1997      Small   \n",
      "5658            Snack Foods  123.4704   OUT013               1987       High   \n",
      "5659            Soft Drinks  188.8530   OUT049               1999     Medium   \n",
      "5660            Snack Foods  215.3850   OUT013               1987       High   \n",
      "5661            Soft Drinks  155.7972   OUT027               1985     Medium   \n",
      "5662            Snack Foods  214.3850   OUT017               2007      Small   \n",
      "5663            Soft Drinks   72.8696   OUT018               2009     Medium   \n",
      "5664            Soft Drinks  173.4054   OUT018               2009     Medium   \n",
      "5665                  Dairy   46.0718   OUT027               1985     Medium   \n",
      "5666            Snack Foods  196.9084   OUT046               1997      Small   \n",
      "5667            Snack Foods   82.1250   OUT046               1997      Small   \n",
      "5668  Fruits and Vegetables  115.1518   OUT010               1998      Small   \n",
      "5669  Fruits and Vegetables  188.0530   OUT027               1985     Medium   \n",
      "5670                   Meat  229.4352   OUT017               2007      Small   \n",
      "5671                 Canned   59.5904   OUT049               1999     Medium   \n",
      "5672              Household  231.1010   OUT049               1999     Medium   \n",
      "5673            Snack Foods  116.0834   OUT018               2009     Medium   \n",
      "5674            Hard Drinks   43.2770   OUT046               1997      Small   \n",
      "5675            Snack Foods   63.4484   OUT049               1999     Medium   \n",
      "5676            Snack Foods  141.3154   OUT046               1997      Small   \n",
      "5677          Starchy Foods  169.1448   OUT018               2009     Medium   \n",
      "5678     Health and Hygiene  118.7440   OUT045               2002      Small   \n",
      "5679                 Canned  214.6218   OUT017               2007      Small   \n",
      "5680                 Canned   79.7960   OUT045               2002      Small   \n",
      "\n",
      "     LocationType         OutletType  \n",
      "0          Tier 1  Supermarket Type1  \n",
      "1          Tier 2  Supermarket Type1  \n",
      "2          Tier 3      Grocery Store  \n",
      "3          Tier 2  Supermarket Type1  \n",
      "4          Tier 3  Supermarket Type3  \n",
      "5          Tier 1  Supermarket Type1  \n",
      "6          Tier 3  Supermarket Type2  \n",
      "7          Tier 3  Supermarket Type3  \n",
      "8          Tier 2  Supermarket Type1  \n",
      "9          Tier 2  Supermarket Type1  \n",
      "10         Tier 2  Supermarket Type1  \n",
      "11         Tier 2  Supermarket Type1  \n",
      "12         Tier 1      Grocery Store  \n",
      "13         Tier 1  Supermarket Type1  \n",
      "14         Tier 3  Supermarket Type1  \n",
      "15         Tier 1  Supermarket Type1  \n",
      "16         Tier 2  Supermarket Type1  \n",
      "17         Tier 3  Supermarket Type2  \n",
      "18         Tier 3  Supermarket Type3  \n",
      "19         Tier 3      Grocery Store  \n",
      "20         Tier 3  Supermarket Type1  \n",
      "21         Tier 2  Supermarket Type1  \n",
      "22         Tier 1  Supermarket Type1  \n",
      "23         Tier 1      Grocery Store  \n",
      "24         Tier 2  Supermarket Type1  \n",
      "25         Tier 3      Grocery Store  \n",
      "26         Tier 2  Supermarket Type1  \n",
      "27         Tier 1  Supermarket Type1  \n",
      "28         Tier 1  Supermarket Type1  \n",
      "29         Tier 2  Supermarket Type1  \n",
      "...           ...                ...  \n",
      "5651       Tier 3  Supermarket Type1  \n",
      "5652       Tier 2  Supermarket Type1  \n",
      "5653       Tier 2  Supermarket Type1  \n",
      "5654       Tier 3  Supermarket Type1  \n",
      "5655       Tier 3  Supermarket Type3  \n",
      "5656       Tier 3  Supermarket Type3  \n",
      "5657       Tier 1  Supermarket Type1  \n",
      "5658       Tier 3  Supermarket Type1  \n",
      "5659       Tier 1  Supermarket Type1  \n",
      "5660       Tier 3  Supermarket Type1  \n",
      "5661       Tier 3  Supermarket Type3  \n",
      "5662       Tier 2  Supermarket Type1  \n",
      "5663       Tier 3  Supermarket Type2  \n",
      "5664       Tier 3  Supermarket Type2  \n",
      "5665       Tier 3  Supermarket Type3  \n",
      "5666       Tier 1  Supermarket Type1  \n",
      "5667       Tier 1  Supermarket Type1  \n",
      "5668       Tier 3      Grocery Store  \n",
      "5669       Tier 3  Supermarket Type3  \n",
      "5670       Tier 2  Supermarket Type1  \n",
      "5671       Tier 1  Supermarket Type1  \n",
      "5672       Tier 1  Supermarket Type1  \n",
      "5673       Tier 3  Supermarket Type2  \n",
      "5674       Tier 1  Supermarket Type1  \n",
      "5675       Tier 1  Supermarket Type1  \n",
      "5676       Tier 1  Supermarket Type1  \n",
      "5677       Tier 3  Supermarket Type2  \n",
      "5678       Tier 2  Supermarket Type1  \n",
      "5679       Tier 2  Supermarket Type1  \n",
      "5680       Tier 2  Supermarket Type1  \n",
      "\n",
      "[5681 rows x 11 columns]\n"
     ]
    }
   ],
   "source": [
    "# Print the DataFrame after handling outliers\n",
    "print(test)"
   ]
  },
  {
   "cell_type": "code",
   "execution_count": 21,
   "metadata": {},
   "outputs": [
    {
     "name": "stdout",
     "output_type": "stream",
     "text": [
      "[[False False False False]\n",
      " [False False False False]\n",
      " [False False False False]\n",
      " ...\n",
      " [False False False False]\n",
      " [False False False False]\n",
      " [False False False False]]\n"
     ]
    }
   ],
   "source": [
    " z_threshold = 3\n",
    "# # Check for outliers after adjustment\n",
    "z_scores_after = np.abs(stats.zscore(test[numericaltestcolumns]))\n",
    " outliers_after = (z_scores_after > z_threshold)\n",
    " print (outliers_after)"
   ]
  },
  {
   "cell_type": "markdown",
   "metadata": {},
   "source": [
    "# SINCE THERE ARE NO COLUMNS WITH A Z SCORE HIGHER THAN 3 AFTER CAPPING AND FLOORING, WE CAN ASSUME WE HAVE HANDLED THE OUTLIERS\n"
   ]
  },
  {
   "cell_type": "code",
   "execution_count": 22,
   "metadata": {},
   "outputs": [
    {
     "ename": "AttributeError",
     "evalue": "module 'seaborn' has no attribute 'histplot'",
     "output_type": "error",
     "traceback": [
      "\u001b[1;31m---------------------------------------------------------------------------\u001b[0m",
      "\u001b[1;31mAttributeError\u001b[0m                            Traceback (most recent call last)",
      "\u001b[1;32m<ipython-input-22-a3a949c284aa>\u001b[0m in \u001b[0;36m<module>\u001b[1;34m\u001b[0m\n\u001b[0;32m      2\u001b[0m \u001b[1;32mfor\u001b[0m \u001b[0mi\u001b[0m\u001b[1;33m,\u001b[0m \u001b[0mcolumn\u001b[0m \u001b[1;32min\u001b[0m \u001b[0menumerate\u001b[0m\u001b[1;33m(\u001b[0m\u001b[0mnumericaltestcolumns\u001b[0m\u001b[1;33m,\u001b[0m \u001b[1;36m1\u001b[0m\u001b[1;33m)\u001b[0m\u001b[1;33m:\u001b[0m\u001b[1;33m\u001b[0m\u001b[1;33m\u001b[0m\u001b[0m\n\u001b[0;32m      3\u001b[0m     \u001b[0mplt\u001b[0m\u001b[1;33m.\u001b[0m\u001b[0msubplot\u001b[0m\u001b[1;33m(\u001b[0m\u001b[1;36m2\u001b[0m\u001b[1;33m,\u001b[0m \u001b[1;36m3\u001b[0m\u001b[1;33m,\u001b[0m \u001b[0mi\u001b[0m\u001b[1;33m)\u001b[0m\u001b[1;33m\u001b[0m\u001b[1;33m\u001b[0m\u001b[0m\n\u001b[1;32m----> 4\u001b[1;33m     \u001b[0msns\u001b[0m\u001b[1;33m.\u001b[0m\u001b[0mhistplot\u001b[0m\u001b[1;33m(\u001b[0m\u001b[0mtest\u001b[0m\u001b[1;33m[\u001b[0m\u001b[0mcolumn\u001b[0m\u001b[1;33m]\u001b[0m\u001b[1;33m,\u001b[0m \u001b[0mkde\u001b[0m\u001b[1;33m=\u001b[0m\u001b[1;32mTrue\u001b[0m\u001b[1;33m)\u001b[0m\u001b[1;33m\u001b[0m\u001b[1;33m\u001b[0m\u001b[0m\n\u001b[0m\u001b[0;32m      5\u001b[0m     \u001b[0mplt\u001b[0m\u001b[1;33m.\u001b[0m\u001b[0mtitle\u001b[0m\u001b[1;33m(\u001b[0m\u001b[0mcolumn\u001b[0m\u001b[1;33m)\u001b[0m\u001b[1;33m\u001b[0m\u001b[1;33m\u001b[0m\u001b[0m\n\u001b[0;32m      6\u001b[0m \u001b[0mplt\u001b[0m\u001b[1;33m.\u001b[0m\u001b[0mtight_layout\u001b[0m\u001b[1;33m(\u001b[0m\u001b[1;33m)\u001b[0m\u001b[1;33m\u001b[0m\u001b[1;33m\u001b[0m\u001b[0m\n",
      "\u001b[1;31mAttributeError\u001b[0m: module 'seaborn' has no attribute 'histplot'"
     ]
    },
    {
     "data": {
      "image/png": "[encoded data removed]",
      "text/plain": [
       "<Figure size 864x576 with 1 Axes>"
      ]
     },
     "metadata": {
      "needs_background": "light"
     },
     "output_type": "display_data"
    }
   ],
   "source": [
    "plt.figure(figsize=(12, 8))\n",
    "for i, column in enumerate(numericaltestcolumns, 1):\n",
    "    plt.subplot(2, 3, i)\n",
    "    sns.histplot(test[column], kde=True)\n",
    "    plt.title(column)\n",
    "plt.tight_layout()\n",
    "plt.show()"
   ]
  },
  {
   "cell_type": "code",
   "execution_count": 23,
   "metadata": {},
   "outputs": [],
   "source": [
    "# CHECKING AND SOLVING OUTLIERS IN THE TRAIN DATA SET"
   ]
  },
  {
   "cell_type": "code",
   "execution_count": 24,
   "metadata": {},
   "outputs": [
    {
     "name": "stdout",
     "output_type": "stream",
     "text": [
      "(array([  49,   83,  108,  130,  145,  174,  276,  304,  333,  373,  434,\n",
      "        456,  472,  502,  521,  532,  661,  694,  753,  809,  854,  935,\n",
      "        991,  997, 1009, 1138, 1159, 1254, 1272, 1291, 1311, 1324, 1434,\n",
      "       1450, 1496, 1501, 1506, 1560, 1575, 1644, 1651, 1805, 1827, 1841,\n",
      "       1859, 1998, 2088, 2109, 2122, 2216, 2238, 2251, 2293, 2324, 2439,\n",
      "       2445, 2516, 2535, 2586, 2613, 2728, 2776, 2855, 2895, 3017, 3083,\n",
      "       3087, 3098, 3154, 3206, 3234, 3286, 3399, 3407, 3458, 3474, 3488,\n",
      "       3497, 3540, 3667, 3709, 3720, 3750, 3757, 3767, 3884, 3993, 4006,\n",
      "       4219, 4289, 4346, 4349, 4382, 4408, 4530, 4656, 4674, 4676, 4681,\n",
      "       4772, 4789, 4888, 4941, 4961, 4991, 5031, 5065, 5150, 5177, 5185,\n",
      "       5223, 5287, 5315, 5374, 5500, 5550, 5619, 5732, 5734, 5752, 5795,\n",
      "       5799, 5812, 5837, 5880, 5891, 5946, 5977, 6000, 6008, 6012, 6134,\n",
      "       6179, 6334, 6409, 6536, 6537, 6541, 6576, 6606, 6622, 6674, 6786,\n",
      "       6886, 6903, 6993, 7005, 7016, 7076, 7088, 7107, 7121, 7188, 7191,\n",
      "       7215, 7236, 7250, 7256, 7278, 7302, 7343, 7388, 7499, 7558, 7560,\n",
      "       7562, 7603, 7609, 7690, 7744, 7752, 7816, 7826, 7866, 7930, 7949,\n",
      "       8039, 8194, 8201, 8215, 8245, 8273, 8345, 8432, 8447], dtype=int32), array([1, 1, 1, 4, 4, 1, 4, 4, 4, 4, 1, 4, 4, 1, 1, 1, 4, 4, 4, 4, 1, 4,\n",
      "       4, 4, 4, 4, 1, 4, 1, 1, 1, 1, 1, 4, 1, 1, 4, 1, 1, 1, 1, 1, 1, 1,\n",
      "       4, 4, 1, 4, 1, 4, 4, 1, 4, 1, 1, 1, 4, 4, 1, 1, 1, 4, 1, 1, 1, 4,\n",
      "       4, 4, 4, 1, 4, 4, 1, 4, 1, 1, 1, 1, 1, 4, 4, 4, 1, 4, 1, 1, 1, 1,\n",
      "       1, 4, 4, 4, 1, 1, 1, 1, 1, 4, 4, 4, 1, 4, 1, 4, 4, 1, 4, 1, 4, 4,\n",
      "       4, 1, 4, 1, 4, 4, 4, 1, 1, 4, 1, 4, 4, 1, 1, 1, 1, 4, 4, 1, 1, 4,\n",
      "       1, 4, 4, 1, 4, 4, 1, 4, 1, 1, 1, 4, 1, 4, 1, 4, 4, 1, 1, 1, 4, 4,\n",
      "       1, 4, 1, 4, 1, 4, 4, 1, 1, 1, 4, 4, 1, 4, 4, 1, 4, 4, 4, 1, 4, 1,\n",
      "       4, 1, 4, 1, 4, 1, 1, 1, 4], dtype=int32))\n"
     ]
    }
   ],
   "source": [
    "numericaltraincolumns = train.select_dtypes(include=[np.number]).columns\n",
    "\n",
    "# Calculate Z-scores for the numerical columns\n",
    "z_scores = np.abs(stats.zscore(train[numericaltraincolumns]))\n",
    "\n",
    "print(np.where(z_scores > 3))"
   ]
  },
  {
   "cell_type": "code",
   "execution_count": 25,
   "metadata": {},
   "outputs": [],
   "source": [
    "# Calculate mean and standard deviation for numeric columns\n",
    "mean_values = train[numericaltraincolumns].mean()\n",
    "std_dev = train[numericaltraincolumns].std()\n",
    "\n",
    "# Define bounds using a standard deviation multiplier\n",
    "std_dev_multiplier = 3\n",
    "lower_bound = mean_values - (std_dev_multiplier * std_dev)\n",
    "upper_bound = mean_values + (std_dev_multiplier * std_dev)\n",
    "\n",
    "# Apply capping and flooring using the defined bounds\n",
    "train[numericaltraincolumns] = train[numericaltraincolumns].apply(lambda x: np.clip(x, lower_bound[x.name], upper_bound[x.name]))\n"
   ]
  },
  {
   "cell_type": "code",
   "execution_count": 26,
   "metadata": {},
   "outputs": [
    {
     "name": "stdout",
     "output_type": "stream",
     "text": [
      "[[False False False False]\n",
      " [False False False False]\n",
      " [False False False False]\n",
      " ...\n",
      " [False False False False]\n",
      " [False False False False]\n",
      " [False False False False]]\n"
     ]
    }
   ],
   "source": [
    "# Check for outliers after adjustment\n",
    "z_threshold = 3\n",
    "z_scores_after = np.abs(stats.zscore(train[numericaltraincolumns]))\n",
    "trainoutliers_after = (z_scores_after > z_threshold)\n",
    "print(outliers_after)"
   ]
  },
  {
   "cell_type": "markdown",
   "metadata": {},
   "source": [
    "# seeing that there is no column with zscores greater than 3 after our adjustment we can assume we've handled the outliers"
   ]
  },
  {
   "cell_type": "code",
   "execution_count": 265,
   "metadata": {},
   "outputs": [
    {
     "data": {
      "image/png": "[encoded data removed]",
      "text/plain": [
       "<Figure size 1200x800 with 5 Axes>"
      ]
     },
     "metadata": {},
     "output_type": "display_data"
    }
   ],
   "source": [
    "plt.figure(figsize=(12, 8))\n",
    "for i, column in enumerate(numericaltraincolumns, 1):\n",
    "    plt.subplot(2, 3, i)\n",
    "    sns.histplot(train[column], kde=True)\n",
    "    plt.title(column)\n",
    "plt.tight_layout()\n",
    "plt.show()"
   ]
  },
  {
   "cell_type": "markdown",
   "metadata": {},
   "source": [
    "# we will be proceeding with the train set for training our model from here on out."
   ]
  },
  {
   "cell_type": "markdown",
   "metadata": {},
   "source": [
    "# checking and handling skewness"
   ]
  },
  {
   "cell_type": "code",
   "execution_count": 27,
   "metadata": {},
   "outputs": [
    {
     "name": "stdout",
     "output_type": "stream",
     "text": [
      "ProductVisibility    0.817401\n",
      "OutletSales         -0.896933\n",
      "dtype: float64\n"
     ]
    }
   ],
   "source": [
    "skewness = train[numericaltraincolumns].apply(lambda x: stats.skew(x.dropna()))\n",
    "skewed_columns = skewness[skewness > 0.75].index\n",
    "\n",
    "# Apply log transformation to skewed columns\n",
    "train[skewed_columns] = train[skewed_columns].apply(lambda x: np.log1p(x))\n",
    "\n",
    "# Verify skewness reduction\n",
    "print(train[skewed_columns].apply(lambda x: stats.skew(x.dropna())))"
   ]
  },
  {
   "cell_type": "markdown",
   "metadata": {},
   "source": [
    "# we can see that product visibility is positively skewed and outletsales is negatively skewed so we're going to try to reduce the skewness to improve our models performance"
   ]
  },
  {
   "cell_type": "code",
   "execution_count": 28,
   "metadata": {},
   "outputs": [
    {
     "name": "stdout",
     "output_type": "stream",
     "text": [
      "ProductVisibility    0.730217\n",
      "dtype: float64\n"
     ]
    }
   ],
   "source": [
    "skewness = train[['ProductVisibility', 'OutletSales']].apply(lambda x: stats.skew(x.dropna()))\n",
    "\n",
    "# Identify columns with skewness greater than 0.75 (adjust threshold as needed)\n",
    "skewed_columns = skewness[skewness > 0.75].index\n",
    "\n",
    "# Apply log transformation to skewed columns\n",
    "train[skewed_columns] = train[skewed_columns].apply(lambda x: np.log1p(x))\n",
    "\n",
    "# Verify skewness reduction\n",
    "print(train[skewed_columns].apply(lambda x: stats.skew(x.dropna())))"
   ]
  },
  {
   "cell_type": "markdown",
   "metadata": {},
   "source": [
    "# product visibility now has a skewness of o.73  which isnt greater than 0.75"
   ]
  },
  {
   "cell_type": "markdown",
   "metadata": {},
   "source": [
    "# WE THEN LABEL ENCODE UR CATEGORICAL COLUMNS SO WE CAN VISUALIZE CORRELATION"
   ]
  },
  {
   "cell_type": "code",
   "execution_count": 29,
   "metadata": {},
   "outputs": [
    {
     "data": {
      "text/plain": [
       "Low Fat    5089\n",
       "Regular    2889\n",
       "LF          316\n",
       "reg         117\n",
       "low fat     112\n",
       "Name: FatContent, dtype: int64"
      ]
     },
     "execution_count": 29,
     "metadata": {},
     "output_type": "execute_result"
    }
   ],
   "source": [
    "# checking and converting the values in fat content\n",
    "train['FatContent'].value_counts()"
   ]
  },
  {
   "cell_type": "code",
   "execution_count": 30,
   "metadata": {},
   "outputs": [
    {
     "data": {
      "text/plain": [
       "Low Fat    5517\n",
       "Regular    3006\n",
       "Name: FatContent, dtype: int64"
      ]
     },
     "execution_count": 30,
     "metadata": {},
     "output_type": "execute_result"
    }
   ],
   "source": [
    "train.replace({'FatContent': {'low fat':'Low Fat','LF':'Low Fat','reg':'Regular'}},inplace=True)\n",
    "train['FatContent'].value_counts()"
   ]
  },
  {
   "cell_type": "markdown",
   "metadata": {},
   "source": [
    "# dropping columns with unique values that wont aid our analysis "
   ]
  },
  {
   "cell_type": "code",
   "execution_count": 31,
   "metadata": {},
   "outputs": [],
   "source": [
    "train.drop(['ProductID', 'OutletID'], axis=1, inplace=True)"
   ]
  },
  {
   "cell_type": "code",
   "execution_count": 32,
   "metadata": {},
   "outputs": [
    {
     "data": {
      "text/html": [
       "<div>\n",
       "<style scoped>\n",
       "    .dataframe tbody tr th:only-of-type {\n",
       "        vertical-align: middle;\n",
       "    }\n",
       "\n",
       "    .dataframe tbody tr th {\n",
       "        vertical-align: top;\n",
       "    }\n",
       "\n",
       "    .dataframe thead th {\n",
       "        text-align: right;\n",
       "    }\n",
       "</style>\n",
       "<table border=\"1\" class=\"dataframe\">\n",
       "  <thead>\n",
       "    <tr style=\"text-align: right;\">\n",
       "      <th></th>\n",
       "      <th>Weight</th>\n",
       "      <th>FatContent</th>\n",
       "      <th>ProductVisibility</th>\n",
       "      <th>ProductType</th>\n",
       "      <th>MRP</th>\n",
       "      <th>EstablishmentYear</th>\n",
       "      <th>OutletSize</th>\n",
       "      <th>LocationType</th>\n",
       "      <th>OutletType</th>\n",
       "      <th>OutletSales</th>\n",
       "    </tr>\n",
       "  </thead>\n",
       "  <tbody>\n",
       "    <tr>\n",
       "      <th>0</th>\n",
       "      <td>9.30</td>\n",
       "      <td>Low Fat</td>\n",
       "      <td>0.015795</td>\n",
       "      <td>Dairy</td>\n",
       "      <td>249.8092</td>\n",
       "      <td>1999</td>\n",
       "      <td>Medium</td>\n",
       "      <td>Tier 1</td>\n",
       "      <td>Supermarket Type1</td>\n",
       "      <td>8.225808</td>\n",
       "    </tr>\n",
       "    <tr>\n",
       "      <th>1</th>\n",
       "      <td>5.92</td>\n",
       "      <td>Regular</td>\n",
       "      <td>0.018915</td>\n",
       "      <td>Soft Drinks</td>\n",
       "      <td>48.2692</td>\n",
       "      <td>2009</td>\n",
       "      <td>Medium</td>\n",
       "      <td>Tier 3</td>\n",
       "      <td>Supermarket Type2</td>\n",
       "      <td>6.096776</td>\n",
       "    </tr>\n",
       "    <tr>\n",
       "      <th>2</th>\n",
       "      <td>17.50</td>\n",
       "      <td>Low Fat</td>\n",
       "      <td>0.016485</td>\n",
       "      <td>Meat</td>\n",
       "      <td>141.6180</td>\n",
       "      <td>1999</td>\n",
       "      <td>Medium</td>\n",
       "      <td>Tier 1</td>\n",
       "      <td>Supermarket Type1</td>\n",
       "      <td>7.648868</td>\n",
       "    </tr>\n",
       "    <tr>\n",
       "      <th>3</th>\n",
       "      <td>19.20</td>\n",
       "      <td>Regular</td>\n",
       "      <td>0.000000</td>\n",
       "      <td>Fruits and Vegetables</td>\n",
       "      <td>182.0950</td>\n",
       "      <td>1998</td>\n",
       "      <td>Small</td>\n",
       "      <td>Tier 3</td>\n",
       "      <td>Grocery Store</td>\n",
       "      <td>6.597664</td>\n",
       "    </tr>\n",
       "    <tr>\n",
       "      <th>4</th>\n",
       "      <td>8.93</td>\n",
       "      <td>Low Fat</td>\n",
       "      <td>0.000000</td>\n",
       "      <td>Household</td>\n",
       "      <td>53.8614</td>\n",
       "      <td>1987</td>\n",
       "      <td>High</td>\n",
       "      <td>Tier 3</td>\n",
       "      <td>Supermarket Type1</td>\n",
       "      <td>6.903451</td>\n",
       "    </tr>\n",
       "  </tbody>\n",
       "</table>\n",
       "</div>"
      ],
      "text/plain": [
       "   Weight FatContent  ProductVisibility            ProductType       MRP  \\\n",
       "0    9.30    Low Fat           0.015795                  Dairy  249.8092   \n",
       "1    5.92    Regular           0.018915            Soft Drinks   48.2692   \n",
       "2   17.50    Low Fat           0.016485                   Meat  141.6180   \n",
       "3   19.20    Regular           0.000000  Fruits and Vegetables  182.0950   \n",
       "4    8.93    Low Fat           0.000000              Household   53.8614   \n",
       "\n",
       "   EstablishmentYear OutletSize LocationType         OutletType  OutletSales  \n",
       "0               1999     Medium       Tier 1  Supermarket Type1     8.225808  \n",
       "1               2009     Medium       Tier 3  Supermarket Type2     6.096776  \n",
       "2               1999     Medium       Tier 1  Supermarket Type1     7.648868  \n",
       "3               1998      Small       Tier 3      Grocery Store     6.597664  \n",
       "4               1987       High       Tier 3  Supermarket Type1     6.903451  "
      ]
     },
     "execution_count": 32,
     "metadata": {},
     "output_type": "execute_result"
    }
   ],
   "source": [
    "train.head()"
   ]
  },
  {
   "cell_type": "code",
   "execution_count": 33,
   "metadata": {},
   "outputs": [],
   "source": [
    "# Initialize LabelEncoder\n",
    "encoder = LabelEncoder()\n",
    "# Encode categorical variables\n",
    "train['FatContent'] = encoder.fit_transform(train['FatContent'])\n",
    "train['ProductType'] = encoder.fit_transform(train['ProductType'])\n",
    "train['OutletSize'] = encoder.fit_transform(train['OutletSize'])\n",
    "train['LocationType'] = encoder.fit_transform(train['LocationType'])\n",
    "train['OutletType'] = encoder.fit_transform(train['OutletType'])\n"
   ]
  },
  {
   "cell_type": "code",
   "execution_count": 34,
   "metadata": {},
   "outputs": [
    {
     "data": {
      "text/html": [
       "<div>\n",
       "<style scoped>\n",
       "    .dataframe tbody tr th:only-of-type {\n",
       "        vertical-align: middle;\n",
       "    }\n",
       "\n",
       "    .dataframe tbody tr th {\n",
       "        vertical-align: top;\n",
       "    }\n",
       "\n",
       "    .dataframe thead th {\n",
       "        text-align: right;\n",
       "    }\n",
       "</style>\n",
       "<table border=\"1\" class=\"dataframe\">\n",
       "  <thead>\n",
       "    <tr style=\"text-align: right;\">\n",
       "      <th></th>\n",
       "      <th>Weight</th>\n",
       "      <th>FatContent</th>\n",
       "      <th>ProductVisibility</th>\n",
       "      <th>ProductType</th>\n",
       "      <th>MRP</th>\n",
       "      <th>EstablishmentYear</th>\n",
       "      <th>OutletSize</th>\n",
       "      <th>LocationType</th>\n",
       "      <th>OutletType</th>\n",
       "      <th>OutletSales</th>\n",
       "    </tr>\n",
       "  </thead>\n",
       "  <tbody>\n",
       "    <tr>\n",
       "      <th>0</th>\n",
       "      <td>9.30</td>\n",
       "      <td>0</td>\n",
       "      <td>0.015795</td>\n",
       "      <td>4</td>\n",
       "      <td>249.8092</td>\n",
       "      <td>1999</td>\n",
       "      <td>1</td>\n",
       "      <td>0</td>\n",
       "      <td>1</td>\n",
       "      <td>8.225808</td>\n",
       "    </tr>\n",
       "    <tr>\n",
       "      <th>1</th>\n",
       "      <td>5.92</td>\n",
       "      <td>1</td>\n",
       "      <td>0.018915</td>\n",
       "      <td>14</td>\n",
       "      <td>48.2692</td>\n",
       "      <td>2009</td>\n",
       "      <td>1</td>\n",
       "      <td>2</td>\n",
       "      <td>2</td>\n",
       "      <td>6.096776</td>\n",
       "    </tr>\n",
       "    <tr>\n",
       "      <th>2</th>\n",
       "      <td>17.50</td>\n",
       "      <td>0</td>\n",
       "      <td>0.016485</td>\n",
       "      <td>10</td>\n",
       "      <td>141.6180</td>\n",
       "      <td>1999</td>\n",
       "      <td>1</td>\n",
       "      <td>0</td>\n",
       "      <td>1</td>\n",
       "      <td>7.648868</td>\n",
       "    </tr>\n",
       "    <tr>\n",
       "      <th>3</th>\n",
       "      <td>19.20</td>\n",
       "      <td>1</td>\n",
       "      <td>0.000000</td>\n",
       "      <td>6</td>\n",
       "      <td>182.0950</td>\n",
       "      <td>1998</td>\n",
       "      <td>2</td>\n",
       "      <td>2</td>\n",
       "      <td>0</td>\n",
       "      <td>6.597664</td>\n",
       "    </tr>\n",
       "    <tr>\n",
       "      <th>4</th>\n",
       "      <td>8.93</td>\n",
       "      <td>0</td>\n",
       "      <td>0.000000</td>\n",
       "      <td>9</td>\n",
       "      <td>53.8614</td>\n",
       "      <td>1987</td>\n",
       "      <td>0</td>\n",
       "      <td>2</td>\n",
       "      <td>1</td>\n",
       "      <td>6.903451</td>\n",
       "    </tr>\n",
       "  </tbody>\n",
       "</table>\n",
       "</div>"
      ],
      "text/plain": [
       "   Weight  FatContent  ProductVisibility  ProductType       MRP  \\\n",
       "0    9.30           0           0.015795            4  249.8092   \n",
       "1    5.92           1           0.018915           14   48.2692   \n",
       "2   17.50           0           0.016485           10  141.6180   \n",
       "3   19.20           1           0.000000            6  182.0950   \n",
       "4    8.93           0           0.000000            9   53.8614   \n",
       "\n",
       "   EstablishmentYear  OutletSize  LocationType  OutletType  OutletSales  \n",
       "0               1999           1             0           1     8.225808  \n",
       "1               2009           1             2           2     6.096776  \n",
       "2               1999           1             0           1     7.648868  \n",
       "3               1998           2             2           0     6.597664  \n",
       "4               1987           0             2           1     6.903451  "
      ]
     },
     "execution_count": 34,
     "metadata": {},
     "output_type": "execute_result"
    }
   ],
   "source": [
    "train.head()"
   ]
  },
  {
   "cell_type": "markdown",
   "metadata": {},
   "source": [
    "# plotting the correlation matrix"
   ]
  },
  {
   "cell_type": "code",
   "execution_count": 35,
   "metadata": {},
   "outputs": [
    {
     "data": {
      "text/plain": [
       "<matplotlib.axes._subplots.AxesSubplot at 0xa2e1730>"
      ]
     },
     "execution_count": 35,
     "metadata": {},
     "output_type": "execute_result"
    },
    {
     "data": {
      "image/png": "[encoded data removed]",
      "text/plain": [
       "<Figure size 936x936 with 2 Axes>"
      ]
     },
     "metadata": {
      "needs_background": "light"
     },
     "output_type": "display_data"
    }
   ],
   "source": [
    "correlation_matrix = train.corr()\n",
    "\n",
    "plt.figure(figsize = (13, 13))\n",
    "# Plot the correlation matrix as a heatmap\n",
    "sns.heatmap(train.corr(), annot=True, cmap='RdYlGn', center=0, square=True)"
   ]
  },
  {
   "cell_type": "markdown",
   "metadata": {},
   "source": [
    "# a correlation of 0.51 between MRP and Outlet Sales . this suggests that the maximum retail price influences the outlet sales."
   ]
  },
  {
   "cell_type": "markdown",
   "metadata": {},
   "source": [
    "# outletsales and outlet type have a correlation 0f 0.48, This correlation suggests that the type of outlet influences the sales performance of the outlets."
   ]
  },
  {
   "cell_type": "markdown",
   "metadata": {},
   "source": [
    "# splitting the train data set"
   ]
  },
  {
   "cell_type": "code",
   "execution_count": 36,
   "metadata": {},
   "outputs": [],
   "source": [
    "x = train.drop(columns = 'OutletSales',axis = 1)\n",
    "y = train[\"OutletSales\"]\n"
   ]
  },
  {
   "cell_type": "code",
   "execution_count": 39,
   "metadata": {},
   "outputs": [
    {
     "name": "stdout",
     "output_type": "stream",
     "text": [
      "(8523, 9) (6818, 9) (1705, 9)\n",
      "RMSE: 0.28772076444002875\n",
      "R-squared: 0.7152072365031887\n"
     ]
    }
   ],
   "source": [
    "x_train, x_test, y_train, y_test = train_test_split(x, y, test_size=0.2, random_state=2)\n",
    "print(x.shape, x_train.shape, x_test.shape)\n",
    "\n",
    "# Initialize the Random Forest model\n",
    "model_rf = RandomForestRegressor(n_estimators=500, max_features='sqrt', random_state=2)\n",
    "\n",
    "#n_estimators was set to 500 in order to account for underfitting\n",
    "\n",
    "\n",
    "# Train the model\n",
    "model_rf.fit(x_train, y_train)\n",
    "\n",
    "# Predicting on the test set\n",
    "y_pred = model_rf.predict(x_test)\n",
    "\n",
    "# Evaluate the model\n",
    "rmse = mean_squared_error(y_test, y_pred)\n",
    "r2 = r2_score(y_test, y_pred)\n",
    "\n",
    "print(f\"RMSE: {rmse}\")\n",
    "print(f\"R-squared: {r2}\")\n"
   ]
  },
  {
   "cell_type": "markdown",
   "metadata": {},
   "source": [
    "# The RMSE value of 0.287 means that, on average, the model's predictions are about ±0.54 units away from the actual values of outlet sales."
   ]
  },
  {
   "cell_type": "markdown",
   "metadata": {},
   "source": [
    "# Based on these metrics, the Random Forest model appears to be performing reasonably well. "
   ]
  },
  {
   "cell_type": "markdown",
   "metadata": {},
   "source": [
    "# WE go back to the Test data set so we can make predictions  based on the trained model."
   ]
  },
  {
   "cell_type": "markdown",
   "metadata": {},
   "source": [
    "# checking and handling skewness in test data set"
   ]
  },
  {
   "cell_type": "code",
   "execution_count": 40,
   "metadata": {},
   "outputs": [
    {
     "name": "stdout",
     "output_type": "stream",
     "text": [
      "ProductID            0\n",
      "Weight               0\n",
      "FatContent           0\n",
      "ProductVisibility    0\n",
      "ProductType          0\n",
      "MRP                  0\n",
      "OutletID             0\n",
      "EstablishmentYear    0\n",
      "OutletSize           0\n",
      "LocationType         0\n",
      "OutletType           0\n",
      "dtype: int64\n"
     ]
    }
   ],
   "source": [
    "print(test.isnull().sum())"
   ]
  },
  {
   "cell_type": "code",
   "execution_count": 41,
   "metadata": {},
   "outputs": [
    {
     "name": "stdout",
     "output_type": "stream",
     "text": [
      "ProductVisibility    0.847858\n",
      "dtype: float64\n"
     ]
    }
   ],
   "source": [
    "skewness = test[numericaltestcolumns].apply(lambda x: stats.skew(x.dropna()))\n",
    "testskewed_columns = skewness[skewness > 0.75].index\n",
    "\n",
    "# Apply log transformation to skewed columns\n",
    "test[testskewed_columns] = test[testskewed_columns].apply(lambda x: np.log1p(x))\n",
    "\n",
    "# Verify skewness reduction\n",
    "print(test[testskewed_columns].apply(lambda x: stats.skew(x.dropna())))"
   ]
  },
  {
   "cell_type": "markdown",
   "metadata": {},
   "source": [
    "# product visibility has a skewness of 0.76 which means it is positively skewed so we reduce the skewness"
   ]
  },
  {
   "cell_type": "code",
   "execution_count": 42,
   "metadata": {},
   "outputs": [
    {
     "name": "stdout",
     "output_type": "stream",
     "text": [
      "ProductVisibility    0.755115\n",
      "dtype: float64\n"
     ]
    }
   ],
   "source": [
    "skewness = test[['ProductVisibility']].apply(lambda x: stats.skew(x.dropna()))\n",
    "\n",
    "# Identify columns with skewness greater than 0.75 (adjust threshold as needed)\n",
    "testskewed_columns = skewness[skewness > 0.75].index\n",
    "# Apply log transformation to skewed columns\n",
    "test[testskewed_columns] = test[testskewed_columns].apply(lambda x: np.log1p(x))\n",
    "\n",
    "# Verify skewness reduction\n",
    "print(test[testskewed_columns].apply(lambda x: stats.skew(x.dropna())))"
   ]
  },
  {
   "cell_type": "markdown",
   "metadata": {},
   "source": [
    "# We have reduced the skewness of product visibility to 0.67."
   ]
  },
  {
   "cell_type": "markdown",
   "metadata": {},
   "source": [
    "# Encoding test categorical columns"
   ]
  },
  {
   "cell_type": "code",
   "execution_count": 43,
   "metadata": {},
   "outputs": [
    {
     "data": {
      "text/plain": [
       "Low Fat    3396\n",
       "Regular    1935\n",
       "LF          206\n",
       "reg          78\n",
       "low fat      66\n",
       "Name: FatContent, dtype: int64"
      ]
     },
     "execution_count": 43,
     "metadata": {},
     "output_type": "execute_result"
    }
   ],
   "source": [
    "# checking and converting the values in fat content\n",
    "test['FatContent'].value_counts()"
   ]
  },
  {
   "cell_type": "code",
   "execution_count": 44,
   "metadata": {},
   "outputs": [
    {
     "data": {
      "text/plain": [
       "Low Fat    3668\n",
       "Regular    2013\n",
       "Name: FatContent, dtype: int64"
      ]
     },
     "execution_count": 44,
     "metadata": {},
     "output_type": "execute_result"
    }
   ],
   "source": [
    "test.replace({'FatContent': {'low fat':'Low Fat','LF':'Low Fat','reg':'Regular'}},inplace=True)\n",
    "test['FatContent'].value_counts()"
   ]
  },
  {
   "cell_type": "code",
   "execution_count": 45,
   "metadata": {},
   "outputs": [],
   "source": [
    "test.drop(['ProductID', 'OutletID'], axis=1, inplace=True)"
   ]
  },
  {
   "cell_type": "markdown",
   "metadata": {},
   "source": [
    "# using label encoder to encode categorical columns"
   ]
  },
  {
   "cell_type": "code",
   "execution_count": 46,
   "metadata": {},
   "outputs": [],
   "source": [
    "encoder = LabelEncoder()\n",
    "test['FatContent'] = encoder.fit_transform(test['FatContent'])\n",
    "test['ProductType'] = encoder.fit_transform(test['ProductType'])\n",
    "test['OutletSize'] = encoder.fit_transform(test['OutletSize'])\n",
    "test['LocationType'] = encoder.fit_transform(test['LocationType'])\n",
    "test['OutletType'] = encoder.fit_transform(test['OutletType'])"
   ]
  },
  {
   "cell_type": "code",
   "execution_count": 47,
   "metadata": {},
   "outputs": [
    {
     "data": {
      "text/html": [
       "<div>\n",
       "<style scoped>\n",
       "    .dataframe tbody tr th:only-of-type {\n",
       "        vertical-align: middle;\n",
       "    }\n",
       "\n",
       "    .dataframe tbody tr th {\n",
       "        vertical-align: top;\n",
       "    }\n",
       "\n",
       "    .dataframe thead th {\n",
       "        text-align: right;\n",
       "    }\n",
       "</style>\n",
       "<table border=\"1\" class=\"dataframe\">\n",
       "  <thead>\n",
       "    <tr style=\"text-align: right;\">\n",
       "      <th></th>\n",
       "      <th>Weight</th>\n",
       "      <th>FatContent</th>\n",
       "      <th>ProductVisibility</th>\n",
       "      <th>ProductType</th>\n",
       "      <th>MRP</th>\n",
       "      <th>EstablishmentYear</th>\n",
       "      <th>OutletSize</th>\n",
       "      <th>LocationType</th>\n",
       "      <th>OutletType</th>\n",
       "    </tr>\n",
       "  </thead>\n",
       "  <tbody>\n",
       "    <tr>\n",
       "      <th>0</th>\n",
       "      <td>20.750000</td>\n",
       "      <td>0</td>\n",
       "      <td>0.007508</td>\n",
       "      <td>13</td>\n",
       "      <td>107.8622</td>\n",
       "      <td>1999</td>\n",
       "      <td>1</td>\n",
       "      <td>0</td>\n",
       "      <td>1</td>\n",
       "    </tr>\n",
       "    <tr>\n",
       "      <th>1</th>\n",
       "      <td>8.300000</td>\n",
       "      <td>1</td>\n",
       "      <td>0.037014</td>\n",
       "      <td>4</td>\n",
       "      <td>87.3198</td>\n",
       "      <td>2007</td>\n",
       "      <td>2</td>\n",
       "      <td>1</td>\n",
       "      <td>1</td>\n",
       "    </tr>\n",
       "    <tr>\n",
       "      <th>2</th>\n",
       "      <td>14.600000</td>\n",
       "      <td>0</td>\n",
       "      <td>0.090685</td>\n",
       "      <td>11</td>\n",
       "      <td>241.7538</td>\n",
       "      <td>1998</td>\n",
       "      <td>2</td>\n",
       "      <td>2</td>\n",
       "      <td>0</td>\n",
       "    </tr>\n",
       "    <tr>\n",
       "      <th>3</th>\n",
       "      <td>7.315000</td>\n",
       "      <td>0</td>\n",
       "      <td>0.015156</td>\n",
       "      <td>13</td>\n",
       "      <td>155.0340</td>\n",
       "      <td>2007</td>\n",
       "      <td>2</td>\n",
       "      <td>1</td>\n",
       "      <td>1</td>\n",
       "    </tr>\n",
       "    <tr>\n",
       "      <th>4</th>\n",
       "      <td>12.695633</td>\n",
       "      <td>1</td>\n",
       "      <td>0.106230</td>\n",
       "      <td>4</td>\n",
       "      <td>234.2300</td>\n",
       "      <td>1985</td>\n",
       "      <td>1</td>\n",
       "      <td>2</td>\n",
       "      <td>3</td>\n",
       "    </tr>\n",
       "  </tbody>\n",
       "</table>\n",
       "</div>"
      ],
      "text/plain": [
       "      Weight  FatContent  ProductVisibility  ProductType       MRP  \\\n",
       "0  20.750000           0           0.007508           13  107.8622   \n",
       "1   8.300000           1           0.037014            4   87.3198   \n",
       "2  14.600000           0           0.090685           11  241.7538   \n",
       "3   7.315000           0           0.015156           13  155.0340   \n",
       "4  12.695633           1           0.106230            4  234.2300   \n",
       "\n",
       "   EstablishmentYear  OutletSize  LocationType  OutletType  \n",
       "0               1999           1             0           1  \n",
       "1               2007           2             1           1  \n",
       "2               1998           2             2           0  \n",
       "3               2007           2             1           1  \n",
       "4               1985           1             2           3  "
      ]
     },
     "execution_count": 47,
     "metadata": {},
     "output_type": "execute_result"
    }
   ],
   "source": [
    "test.head()"
   ]
  },
  {
   "cell_type": "markdown",
   "metadata": {},
   "source": [
    "# test data prediction"
   ]
  },
  {
   "cell_type": "code",
   "execution_count": 48,
   "metadata": {},
   "outputs": [
    {
     "name": "stdout",
     "output_type": "stream",
     "text": [
      "[7.34680726 7.21036356 6.25404224 ... 7.47070234 8.4358342  7.25781835]\n"
     ]
    }
   ],
   "source": [
    "\n",
    "# Predicting on test data\n",
    "test_predictions = model_rf.predict(test)\n",
    "\n",
    "# Displaying  predictions\n",
    "print(test_predictions)"
   ]
  },
  {
   "cell_type": "code",
   "execution_count": 49,
   "metadata": {},
   "outputs": [],
   "source": [
    "# Predicting on test data\n",
    "test_predictions = model_rf.predict(test)\n",
    "\n",
    "# Creating a DataFrame with predicted OutletSales\n",
    "df = pd.DataFrame(test_predictions, columns=['OutletSales'])\n",
    "\n",
    "# Adding predicted OutletSales to test dataset\n",
    "test['OutletSales'] = test_predictions\n"
   ]
  },
  {
   "cell_type": "code",
   "execution_count": 50,
   "metadata": {},
   "outputs": [
    {
     "data": {
      "text/html": [
       "<div>\n",
       "<style scoped>\n",
       "    .dataframe tbody tr th:only-of-type {\n",
       "        vertical-align: middle;\n",
       "    }\n",
       "\n",
       "    .dataframe tbody tr th {\n",
       "        vertical-align: top;\n",
       "    }\n",
       "\n",
       "    .dataframe thead th {\n",
       "        text-align: right;\n",
       "    }\n",
       "</style>\n",
       "<table border=\"1\" class=\"dataframe\">\n",
       "  <thead>\n",
       "    <tr style=\"text-align: right;\">\n",
       "      <th></th>\n",
       "      <th>Weight</th>\n",
       "      <th>FatContent</th>\n",
       "      <th>ProductVisibility</th>\n",
       "      <th>ProductType</th>\n",
       "      <th>MRP</th>\n",
       "      <th>EstablishmentYear</th>\n",
       "      <th>OutletSize</th>\n",
       "      <th>LocationType</th>\n",
       "      <th>OutletType</th>\n",
       "      <th>OutletSales</th>\n",
       "    </tr>\n",
       "  </thead>\n",
       "  <tbody>\n",
       "    <tr>\n",
       "      <th>0</th>\n",
       "      <td>20.750000</td>\n",
       "      <td>0</td>\n",
       "      <td>0.007508</td>\n",
       "      <td>13</td>\n",
       "      <td>107.8622</td>\n",
       "      <td>1999</td>\n",
       "      <td>1</td>\n",
       "      <td>0</td>\n",
       "      <td>1</td>\n",
       "      <td>7.346807</td>\n",
       "    </tr>\n",
       "    <tr>\n",
       "      <th>1</th>\n",
       "      <td>8.300000</td>\n",
       "      <td>1</td>\n",
       "      <td>0.037014</td>\n",
       "      <td>4</td>\n",
       "      <td>87.3198</td>\n",
       "      <td>2007</td>\n",
       "      <td>2</td>\n",
       "      <td>1</td>\n",
       "      <td>1</td>\n",
       "      <td>7.210364</td>\n",
       "    </tr>\n",
       "    <tr>\n",
       "      <th>2</th>\n",
       "      <td>14.600000</td>\n",
       "      <td>0</td>\n",
       "      <td>0.090685</td>\n",
       "      <td>11</td>\n",
       "      <td>241.7538</td>\n",
       "      <td>1998</td>\n",
       "      <td>2</td>\n",
       "      <td>2</td>\n",
       "      <td>0</td>\n",
       "      <td>6.254042</td>\n",
       "    </tr>\n",
       "    <tr>\n",
       "      <th>3</th>\n",
       "      <td>7.315000</td>\n",
       "      <td>0</td>\n",
       "      <td>0.015156</td>\n",
       "      <td>13</td>\n",
       "      <td>155.0340</td>\n",
       "      <td>2007</td>\n",
       "      <td>2</td>\n",
       "      <td>1</td>\n",
       "      <td>1</td>\n",
       "      <td>7.459413</td>\n",
       "    </tr>\n",
       "    <tr>\n",
       "      <th>4</th>\n",
       "      <td>12.695633</td>\n",
       "      <td>1</td>\n",
       "      <td>0.106230</td>\n",
       "      <td>4</td>\n",
       "      <td>234.2300</td>\n",
       "      <td>1985</td>\n",
       "      <td>1</td>\n",
       "      <td>2</td>\n",
       "      <td>3</td>\n",
       "      <td>8.438649</td>\n",
       "    </tr>\n",
       "  </tbody>\n",
       "</table>\n",
       "</div>"
      ],
      "text/plain": [
       "      Weight  FatContent  ProductVisibility  ProductType       MRP  \\\n",
       "0  20.750000           0           0.007508           13  107.8622   \n",
       "1   8.300000           1           0.037014            4   87.3198   \n",
       "2  14.600000           0           0.090685           11  241.7538   \n",
       "3   7.315000           0           0.015156           13  155.0340   \n",
       "4  12.695633           1           0.106230            4  234.2300   \n",
       "\n",
       "   EstablishmentYear  OutletSize  LocationType  OutletType  OutletSales  \n",
       "0               1999           1             0           1     7.346807  \n",
       "1               2007           2             1           1     7.210364  \n",
       "2               1998           2             2           0     6.254042  \n",
       "3               2007           2             1           1     7.459413  \n",
       "4               1985           1             2           3     8.438649  "
      ]
     },
     "execution_count": 50,
     "metadata": {},
     "output_type": "execute_result"
    }
   ],
   "source": [
    "test.head()"
   ]
  },
  {
   "cell_type": "markdown",
   "metadata": {},
   "source": [
    "# saving the test as anew csv file"
   ]
  },
  {
   "cell_type": "code",
   "execution_count": 51,
   "metadata": {},
   "outputs": [],
   "source": [
    "test.to_csv(\"testpredictions.csv\")"
   ]
  },
  {
   "cell_type": "code",
   "execution_count": null,
   "metadata": {},
   "outputs": [],
   "source": []
  }
 ],
 "metadata": {
  "kernelspec": {
   "display_name": "Python 3",
   "language": "python",
   "name": "python3"
  },
  "language_info": {
   "codemirror_mode": {
    "name": "ipython",
    "version": 3
   },
   "file_extension": ".py",
   "mimetype": "text/x-python",
   "name": "python",
   "nbconvert_exporter": "python",
   "pygments_lexer": "ipython3",
   "version": "3.7.3"
  }
 },
 "nbformat": 4,
 "nbformat_minor": 5
}
